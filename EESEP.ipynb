{
 "cells": [
  {
   "cell_type": "markdown",
   "metadata": {},
   "source": [
    "# Estimação de Estados do Sistema Elétrico de Potência (EESEP)"
   ]
  },
  {
   "cell_type": "markdown",
   "metadata": {},
   "source": [
    "O processo de Estimação de Estados pode ser **Dinâmico** ou **Estático**.\n",
    "\n",
    "* **Estimador Dinâmico**\n",
    "> As variações das grandezas no tempo são consideradas na modelagem da rede.\n",
    "\n",
    "\n",
    "* **Estimador Estático**\n",
    "> Considera o modelo de rede estático (\"foto do sistema\"), representado por equações algébricas não-lineares. É o tipo mais utilizado, devido ao baixo número de medidas e falta de sincronismo.\n",
    "\n",
    "\n",
    "O Estimador de Estados é utilizado para cálculo das variáveis de estado desconhecidas por meio de um conjunto de medidas não exatas. Logo, o resultado obtido também não será exato.\n",
    "\n",
    "O problema de estimação de estados consiste em encontrar uma forma de atingir a melhor estimativa das variáveis desconhecidas. O critério estatístico mais utilizado para isso é o de Mínimos Quadrados Ponderados (WLS, do inglês *Weighted Least Squares*. Este método funciona bem para erros Gaussianos, mas falha quando há um ou mais erros grosseiros (EG)\n",
    "\n",
    ">**NOTA:** Uma medida é portadora de Erro Grosseiro quando apresenta grau de imprecisão muito maior do que é suposto no modelo de medição. Mais precisamente, uma medida possui EG se a mesma desvia do valor \"verdadeiro\" de, no mínimo, 3 vezes o desvio padrão.\n",
    "\n",
    "Para superar essa limitação, métodos para detecção e identificação de EG foram desenvolvidos, sendo os mais utilizados baseados na análise estatística dos resíduos das medidas. Os resíduos fornecem informações úteis sobre eventuais violações das suposições feitas em relação ao modelo de medição.\n",
    "\n",
    "### Resíduos das medidas\n",
    "\n",
    "São as diferenças entre os valores estimados e aqueles medidos, dadas por:\n",
    "\n",
    "$r = z - \\hat{z}$\n",
    "***\n",
    "Diversos estimadores WLS com maior resíduo normalizado (WLS + $r^{N}$) foram aplicados em SEP, sendo os mais importantes:\n",
    "* Estimador de Máximo Valor Absoluto Ponderado\n",
    "* Estimador de Mínima Meadiana do Resíduo ao Quadrado"
   ]
  },
  {
   "cell_type": "markdown",
   "metadata": {},
   "source": [
    "## Estimador de Estados Estático Linear por Mínimos Quadrados (LS)\n",
    "\n",
    "Consideremos um sistema de 2 barras a seguir (modelo linear).\n"
   ]
  },
  {
   "cell_type": "code",
   "execution_count": 1,
   "metadata": {},
   "outputs": [],
   "source": [
    "import SchemDraw as schem\n",
    "import SchemDraw.elements as e\n",
    "\n",
    "d = schem.Drawing()\n",
    "d.add(e.VDD, lftlabel='1', zoom=3)\n",
    "d.add(e.LINE, zoom=0.5)\n",
    "d.add(e.DOT, botlabel='$P_{12}^{m}$')\n",
    "d.add(e.RBOX, label='$x_{12}$ = 1 pu')\n",
    "d.add(e.DOT, botlabel='$P_{21}^{m}$')\n",
    "d.add(e.LINE, zoom=0.5)\n",
    "B2 = d.add(e.VDD, rgtlabel='2', zoom=3)\n",
    "d.add(e.GND_SIG, zoom=0.75, xy=[5.7,1.8], label='$P_{2}^{m}$')\n",
    "\n",
    "\n",
    "d.draw()"
   ]
  },
  {
   "cell_type": "markdown",
   "metadata": {},
   "source": [
    "* Variáveis de Estado: $\\theta_{1}$, $\\theta_{2}$\n",
    "    * $\\theta_{1}$ é definida como referência: $\\theta_{1} = 0$\n",
    "\n",
    "\n",
    "* Medidas: $P_{12}^{m}$, $P_{21}^{m}$ e $P_{2}^{m}$\n",
    "\n",
    ">$m = 3 \\rightarrow$ número de medidas\n",
    "\n",
    ">$n = 2 \\rightarrow$ número de barras\n",
    "\n",
    ">$N = 1 \\rightarrow$ número de variáveis de estado para estimar\n",
    "\n",
    "### Modelo de Medição\n",
    "\n",
    "Qualquer medida possui ruído inerente ao processo de medição.\n",
    "\n",
    "$P_{12}^{m} = \\underbrace{P_{12}^{v}}_\\text{valor verdadeiro} + \\underbrace{\\omega_{P_{12}}}_\\text{ruído}$\n",
    "\n",
    "A equação do fluxo de potência linear é dada por:\n",
    "\n",
    "$P_{km} = \\frac{\\theta_{k} - \\theta_{l}}{x_{km}}$\n",
    "\n",
    "Logo:\n",
    "\n",
    "$\n",
    "\\begin{cases}\n",
    "P_{12}^{m} = \\frac{\\theta_{1} - \\theta_{2}}{x_{12}} + \\omega_{P_{12}}\\\\\n",
    "\\\\\n",
    "P_{21}^{m} = \\frac{\\theta_{2} - \\theta_{1}}{x_{12}} + \\omega_{P_{21}} \\\\\n",
    "\\\\\n",
    "P_{2}^{m} = \\frac{\\theta_{2} - \\theta_{1}}{x_{12}} + \\omega_{P_{2}}\n",
    "\\end{cases}\n",
    "$\n",
    "\n",
    "Na forma matricial, o sistema pode ser reescrito como:\n",
    "\n",
    "$\n",
    "\\begin{bmatrix}\n",
    "P_{12}^{m} \\\\\n",
    "P_{21}^{m} \\\\\n",
    "P_{2}^{m}\n",
    "\\end{bmatrix}\n",
    "=\n",
    "\\begin{bmatrix}\n",
    "1 & -1 \\\\\n",
    "-1 & 1 \\\\\n",
    "-1 & 1\n",
    "\\end{bmatrix}\n",
    "\\cdot\n",
    "\\begin{bmatrix}\n",
    "\\theta_{1} \\\\\n",
    "\\theta_{2}\n",
    "\\end{bmatrix}\n",
    "+\n",
    "\\begin{bmatrix}\n",
    "\\omega_{P_{12}} \\\\\n",
    "\\omega_{P_{21}} \\\\\n",
    "\\omega_{P_{2}}\n",
    "\\end{bmatrix}\n",
    "\\leftrightarrow\n",
    "z = Hx^{v} + \\omega\n",
    "$\n",
    "\n",
    "onde:\n",
    "\n",
    "$z \\rightarrow$ vetor de medidas $(m\\times 1)$\n",
    "\n",
    "$H \\rightarrow$ Jacobiana que relacionas medidas e variáveis de estado $(m\\times n)$\n",
    "\n",
    "$x^{v} \\rightarrow$ vetor de variáveis de estado verdadeiras $(n\\times 1)$\n",
    "\n",
    "$\\omega \\rightarrow$ vetor de ruídos $(m\\times 1)$\n",
    "\n",
    "\n",
    "Os erros das medidas são considerados como variáveis aleatórias independentes, com distribuição Gaussiana de média zero e variância conhecida."
   ]
  },
  {
   "cell_type": "markdown",
   "metadata": {},
   "source": [
    "### Método dos Mínimos Quadrados (LS)\n",
    "\n",
    "O Método dos Mínimos Quadrados minimiza a soma dos quadrados das diferenças entre o valor medido e o estimado. A partir do estimador LS, a estimativa do vetor $x^{v}$, designado por $\\hat{x}$, é obtida determinando o valor de x que torna mínimo o índice $J(x)$, dado por:\n",
    "\n",
    "$\n",
    "\\begin{array}[ccccc]\n",
    "JJ(x) & = & \\displaystyle\\sum_{i=1}^{m} \\omega_{i}^{2} & = & \\omega^{T}\\cdot\\omega \\\\\n",
    "\\\\\n",
    " & & & = & (z - Hx)^{T}(z - Hx) \\\\\n",
    "\\\\\n",
    " & & & = & z^{T}z - z^{T}Hx - x^{T}H^{T}z + x^{T}H^{T}Hx\n",
    "\\end{array}\n",
    "$\n",
    "\n",
    "Tem-se que:\n",
    "\n",
    "$\n",
    "z^{T}Hx = x^{T}H^{T}z \\rightarrow escalar\n",
    "$\n",
    "\n",
    "Logo:\n",
    "\n",
    "$\n",
    "J(x) = z^{T}z - 2z^{T}Hx + x^{T}H^{T}Hx\n",
    "$"
   ]
  },
  {
   "cell_type": "markdown",
   "metadata": {},
   "source": [
    "> #### Minimizando $J(x)$\n",
    "\n",
    "> Como estamos minimizando, x vira $\\hat{x}$ (valor estimado).\n",
    "\n",
    ">$\n",
    "\\frac{\\partial J(x)}{\\partial x} = 0 - 2H^{T}z + 2H^{T}H\\hat{x} = 0 \\Rightarrow \\\\\n",
    "\\\\\n",
    "\\Rightarrow \\hat{x} = (H^{T}H)^{-1}\\cdot H^{T}z = G^{-1}H^{T}z\n",
    "$"
   ]
  },
  {
   "cell_type": "markdown",
   "metadata": {},
   "source": [
    "## Estimador de Estados Estático Linear por Mínimos Quadrados Ponderados (WLS)\n",
    "\n",
    "Pondera as medidas de acordo com a precisão dos respectivos medidores.\n",
    "\n",
    "**Hipótese 1:** Considera-se que os erros das medidas são Gaussianos (seguem uma distribuição normal).\n",
    "\n",
    "\n",
    "### Distribuição Normal\n",
    "\n",
    "Definida pela seguinte Função Densidade de Probabilidade:\n",
    "\n",
    "$\n",
    "f(\\omega_{i}) = \\frac{1}{\\sigma_{i}\\sqrt{2\\pi}}e^{(\\omega_{i} - \\mu_{i})^{2}/2\\sigma_{i}^{2}}\n",
    "$\n",
    "\n",
    "onde:\n",
    "\n",
    "$\\mu_{i} \\rightarrow$ média\n",
    "\n",
    "$\\sigma_{i} \\rightarrow$ desvio padrão\n",
    "\n",
    "$\\sigma_{i}^{2} \\rightarrow$ variância"
   ]
  },
  {
   "cell_type": "code",
   "execution_count": 2,
   "metadata": {},
   "outputs": [
    {
     "data": {
      "image/png": "[encoded data removed]",
      "text/plain": [
       "<Figure size 432x288 with 1 Axes>"
      ]
     },
     "metadata": {
      "needs_background": "light"
     },
     "output_type": "display_data"
    }
   ],
   "source": [
    "import matplotlib.pyplot as plt\n",
    "import numpy as np\n",
    "\n",
    "mu, sigma = 0., 1.\n",
    "s = np.random.normal(mu, sigma, 1000)\n",
    "\n",
    "# Create the bins and histogram\n",
    "bins = np.linspace(-4,4,100)\n",
    "\n",
    "# Plot the distribution curve\n",
    "plt.plot(bins, 1/(sigma*np.sqrt(2*np.pi))*np.exp(-(bins - mu)**2/(2*sigma**2)), linewidth=3, color='y')\n",
    "plt.title('Função Densidade de Probabilidade')\n",
    "plt.xlabel('$\\omega_{1}$')\n",
    "plt.ylabel('$f(\\omega_{1})$')\n",
    "plt.show()"
   ]
  },
  {
   "cell_type": "markdown",
   "metadata": {},
   "source": [
    "Em EESEP, $\\mu_{i}$ é zero (caso o medidor não esteja polarizado, ou seja, não possui erro sistemático) e $\\sigma_{i}^{2}$ é conhecida.\n",
    "\n",
    "Quanto menor é o valor de $\\sigma_{i}^{2}$, melhor é a medida. Consequentemente, o peso (ponderação) mais utilizado é o inverso da variância do erro, $\\frac{1}{\\sigma_{i}^{2}}$.\n",
    "\n",
    "Considerando esta ponderação, $J(x)$ torna-se:\n",
    "\n",
    "$\n",
    "J(x) = \\displaystyle\\sum_{i=1}^{m}\\left(\\frac{\\omega_{i}}{\\sigma_{i}}\\right)^{2} = \\omega_{i}^{T}\\cdot W\\cdot\\omega_{i}\n",
    "$\n",
    "\n",
    "onde:\n",
    "\n",
    "$W \\rightarrow$ matriz de ponderação. É a inversa da matriz de covariância dos erros das medidas. Esta é uma matriz diagonal."
   ]
  },
  {
   "cell_type": "markdown",
   "metadata": {},
   "source": [
    "### Modelo Linear Ponderado\n",
    "\n",
    "$\n",
    "z = Hx^{v} + \\omega \\Rightarrow \\omega = z - Hx^{v}\n",
    "$\n",
    "\n",
    "$\n",
    "J(x) = (z - Hx)^{T}\\cdot W \\cdot (z - Hx)\n",
    "$\n",
    "\n",
    "Considerando $W = W^{1/2}\\cdot W^{1/2}:$\n",
    "\n",
    "$\n",
    "J(x) = (z - Hx)^{T}\\cdot W^{1/2}\\cdot W^{1/2} \\cdot (z - Hx)\n",
    "$\n",
    "\n",
    "$\n",
    "J(x) = (\\underbrace{W^{1/2}z}_{\\tilde{z}} - \\underbrace{W^{1/2}H}_{\\tilde{H}}x)^{T}\\cdot (W^{1/2}z - W^{1/2}Hx)\n",
    "$\n",
    "\n",
    "$\n",
    "J(x) = (\\tilde{z} - \\tilde{H}x)^{T} \\cdot (\\tilde{z} - \\tilde{H}x)\n",
    "$\n",
    "\n",
    "Por analogia com o modelo sem ponderação:\n",
    "\n",
    "$\n",
    "\\hat{x} = (\\tilde{H}^{T}\\tilde{H})^{-1}\\tilde{H}^{T}\\tilde{z} = {\\underbrace{(H^{T}WH)}_{G}}^{-1}H^{T}Wz\n",
    "$\n",
    "\n",
    ">**NOTA:** Um vetor muito importante para o processo de EESEP é o vetor de resíduos de estimação $(r)$ que é a diferença entre os valores medido e estimado.\n",
    "\n",
    ">$r = z - \\hat{z} = z - H\\hat{x}$\n",
    "\n",
    "***\n",
    "\n",
    "**Exemplo:** analisando a precisão de medidores.\n",
    "\n",
    "$\n",
    "z^{v} = \n",
    "\\begin{bmatrix}\n",
    "P \\\\\n",
    "V\n",
    "\\end{bmatrix}\n",
    "=\n",
    "\\begin{bmatrix}\n",
    "1 \\\\\n",
    "1\n",
    "\\end{bmatrix}\n",
    "$\n",
    "\n",
    "$\n",
    "W =\n",
    "\\begin{bmatrix}\n",
    "1 & 0 \\\\\n",
    "0 & 10\n",
    "\\end{bmatrix}\n",
    "$\n",
    "\n",
    "* Para a medida de potência: $\\frac{1}{\\sigma_{P}^{2}} = 1 \\Rightarrow \\sigma_{P} = 1$:"
   ]
  },
  {
   "cell_type": "code",
   "execution_count": 11,
   "metadata": {},
   "outputs": [
    {
     "data": {
      "image/png": "[encoded data removed]",
      "text/plain": [
       "<Figure size 432x288 with 1 Axes>"
      ]
     },
     "metadata": {
      "needs_background": "light"
     },
     "output_type": "display_data"
    }
   ],
   "source": [
    "import matplotlib.pyplot as plt\n",
    "import numpy as np\n",
    "\n",
    "mu, sigma = 1., 1.\n",
    "s = np.random.normal(mu, sigma, 1000)\n",
    "\n",
    "# Create the bins and histogram\n",
    "bins = np.linspace(-3,5,100)\n",
    "\n",
    "# Plot the distribution curve\n",
    "plt.plot(bins, 1/(sigma*np.sqrt(2*np.pi))*np.exp(-(bins - mu)**2/(2*sigma**2)), linewidth=3, color='y')\n",
    "plt.title('Função Densidade de Probabilidade')\n",
    "plt.xlabel('$\\omega_{P}$')\n",
    "plt.ylabel('$f(\\omega_{P})$')\n",
    "plt.show()"
   ]
  },
  {
   "cell_type": "markdown",
   "metadata": {},
   "source": [
    "* Para a medida de potência: $\\frac{1}{\\sigma_{V}^{2}} = 10 \\Rightarrow \\sigma_{P} = \\sqrt{\\frac{1}{10}} \\approx 0,32$:"
   ]
  },
  {
   "cell_type": "code",
   "execution_count": 9,
   "metadata": {},
   "outputs": [
    {
     "data": {
      "image/png": "[encoded data removed]",
      "text/plain": [
       "<Figure size 432x288 with 1 Axes>"
      ]
     },
     "metadata": {
      "needs_background": "light"
     },
     "output_type": "display_data"
    }
   ],
   "source": [
    "import matplotlib.pyplot as plt\n",
    "import numpy as np\n",
    "\n",
    "mu, sigma = 1., 1/np.sqrt(10.)\n",
    "s = np.random.normal(mu, sigma, 1000)\n",
    "\n",
    "# Create the bins and histogram\n",
    "bins = np.linspace(-3,5,100)\n",
    "\n",
    "# Plot the distribution curve\n",
    "plt.plot(bins, 1/(sigma*np.sqrt(2*np.pi))*np.exp(-(bins - mu)**2/(2*sigma**2)), linewidth=3, color='y')\n",
    "plt.title('Função Densidade de Probabilidade')\n",
    "plt.xlabel('$\\omega_{V}$')\n",
    "plt.ylabel('$f(\\omega_{V})$')\n",
    "plt.show()"
   ]
  },
  {
   "cell_type": "markdown",
   "metadata": {},
   "source": [
    "Para este exemplo, aceitam-se valores para potência entre $-2$ e $4 \\ pu$ e, para tensão, entre $0,04$ e $1,96 \\ pu$.\n",
    "\n",
    "***"
   ]
  },
  {
   "cell_type": "markdown",
   "metadata": {},
   "source": [
    "## Distribuição Normal (ou Gaussiana)\n",
    "\n",
    "> **Notação:** $X \\sim N(\\mu_{x}, \\sigma_{x}^{2})$"
   ]
  }
 ],
 "metadata": {
  "kernelspec": {
   "display_name": "Python 3",
   "language": "python",
   "name": "python3"
  },
  "language_info": {
   "codemirror_mode": {
    "name": "ipython",
    "version": 3
   },
   "file_extension": ".py",
   "mimetype": "text/x-python",
   "name": "python",
   "nbconvert_exporter": "python",
   "pygments_lexer": "ipython3",
   "version": "3.7.1"
  }
 },
 "nbformat": 4,
 "nbformat_minor": 2
}
